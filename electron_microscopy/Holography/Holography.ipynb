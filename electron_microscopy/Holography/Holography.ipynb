{
 "cells": [
  {
   "cell_type": "markdown",
   "metadata": {},
   "source": [
    "# Hyperspy Tutorial"
   ]
  },
  {
   "cell_type": "markdown",
   "metadata": {},
   "source": [
    "## Off-axis electron holography of electrically biased Fe needle"
   ]
  },
  {
   "cell_type": "markdown",
   "metadata": {},
   "source": [
    "This tutorial shows the various functionalities in HyperSpy which is used to analyse off-axis electron holograms using dataset from\n",
    "\n",
    "_Migunov, V., London, A., Farle, M. & Dunin-Borkowski, R. E. Model-independent measurement of the charge density distribution along an Fe atom probe needle using off-axis electron holography without mean inner potential effects. Journal of Applied Physics 117, 134301 (2015). DOI:10.1063/1.4916609_\n",
    "\n",
    "\n",
    "It assumes some knowledge on how to use HyperSpy, like loading datasets and how the basic signals work.\n",
    "\n",
    "This notebook requires:\n",
    "\n",
    "HyperSpy 1.1 "
   ]
  },
  {
   "cell_type": "markdown",
   "metadata": {},
   "source": [
    "## Author"
   ]
  },
  {
   "cell_type": "markdown",
   "metadata": {},
   "source": [
    "Vadim Migunov (Ernst Ruska-Centre for Microscopy and Spectroscopy with Electrons, Juelich, Germany, email: v.migunov@fz-juelich.de), created on 08.11.2016"
   ]
  },
  {
   "cell_type": "markdown",
   "metadata": {},
   "source": [
    "# 1. Preamble and loading the data"
   ]
  },
  {
   "cell_type": "code",
   "execution_count": null,
   "metadata": {
    "collapsed": false
   },
   "outputs": [],
   "source": [
    "import hyperspy.api as hs\n",
    "import numpy as np\n",
    "import matplotlib.pyplot as plt\n",
    "from scipy.fftpack import fft2, fftshift"
   ]
  },
  {
   "cell_type": "code",
   "execution_count": null,
   "metadata": {
    "collapsed": true
   },
   "outputs": [],
   "source": [
    "%matplotlib inline"
   ]
  },
  {
   "cell_type": "markdown",
   "metadata": {},
   "source": [
    "Loading object hologram of the needle at 0V bias and plotting it afterwards"
   ]
  },
  {
   "cell_type": "code",
   "execution_count": null,
   "metadata": {
    "collapsed": true
   },
   "outputs": [],
   "source": [
    "holo0 = hs.load('./datasets/01_holo_Vbp_130V_0V_bin2_crop.hdf5', signal_type='hologram')"
   ]
  },
  {
   "cell_type": "code",
   "execution_count": null,
   "metadata": {
    "collapsed": false
   },
   "outputs": [],
   "source": [
    "hs.plot.plot_images([holo0, holo0.isig[150:250, 200:300]], tight_layout=False)"
   ]
  },
  {
   "cell_type": "markdown",
   "metadata": {
    "collapsed": true
   },
   "source": [
    "Loading object hologram of the needle at 5V bias and vacuum reference"
   ]
  },
  {
   "cell_type": "code",
   "execution_count": null,
   "metadata": {
    "collapsed": true
   },
   "outputs": [],
   "source": [
    "holo5 = hs.load('./datasets/02_holo_Vbp_130V_5V_bin2_crop.hdf5', signal_type='hologram')"
   ]
  },
  {
   "cell_type": "code",
   "execution_count": null,
   "metadata": {
    "collapsed": true
   },
   "outputs": [],
   "source": [
    "ref = hs.load('./datasets/00_ref_Vbp_130V_0V_bin2_crop.hdf5', signal_type='hologram')"
   ]
  },
  {
   "cell_type": "code",
   "execution_count": null,
   "metadata": {
    "collapsed": false
   },
   "outputs": [],
   "source": [
    "ref.plot()"
   ]
  },
  {
   "cell_type": "markdown",
   "metadata": {},
   "source": [
    "# 2. Reconstructing holograms"
   ]
  },
  {
   "cell_type": "markdown",
   "metadata": {},
   "source": [
    "Reconstruction of off-axis holograms involves finding a sideband in FFT patttern, filtering the sideband and re-centering FFT in the centre of the sideband, followed by inverse Fourier transform"
   ]
  },
  {
   "cell_type": "markdown",
   "metadata": {},
   "source": [
    "First, onc may check how does FFT of a hologram looks like:"
   ]
  },
  {
   "cell_type": "code",
   "execution_count": null,
   "metadata": {
    "collapsed": false
   },
   "outputs": [],
   "source": [
    "fft_holo0 = np.log(np.abs(fftshift(fft2(holo0.data))))\n",
    "plt.imshow(fft_holo0)"
   ]
  },
  {
   "cell_type": "markdown",
   "metadata": {},
   "source": [
    "One sees two sidebands in upper and lower parts of the FFT. Those correspond to two complex conjugate electron waves. Selecting one or another will only change sign of the reconstructed phase. The criteria for the selection is the convention that the phase shift inside material is positive with respect to vacuum. This can be checked only after the reconstruction, therefore the upper sideband is selected for the moment:"
   ]
  },
  {
   "cell_type": "code",
   "execution_count": null,
   "metadata": {
    "collapsed": false,
    "scrolled": false
   },
   "outputs": [],
   "source": [
    "fft_holo0 = hs.signals.Signal2D(fft_holo0)\n",
    "m = hs.plot.markers.rectangle(x1=290, y1=100, x2=350, y2=160, color='red')\n",
    "fft_holo0.add_marker(m)"
   ]
  },
  {
   "cell_type": "markdown",
   "metadata": {},
   "source": [
    "Prior to reconstruction the position of sideband centre and the radius of sideband filter have to be defined. To avoid artificial slopes in the reconstructed phase this has to be done using vacuum reference rather than object hologram:"
   ]
  },
  {
   "cell_type": "code",
   "execution_count": null,
   "metadata": {
    "collapsed": false
   },
   "outputs": [],
   "source": [
    "sb_position = ref.find_sideband_position(sb='upper')\n",
    "sb_position"
   ]
  },
  {
   "cell_type": "markdown",
   "metadata": {},
   "source": [
    "_Note: The coordinates of sideband are given for non-shifted FFT, therefore there are differnt from above!_"
   ]
  },
  {
   "cell_type": "code",
   "execution_count": null,
   "metadata": {
    "collapsed": false
   },
   "outputs": [],
   "source": [
    "sb_size = ref.find_sideband_size(sb_position)\n",
    "sb_size"
   ]
  },
  {
   "cell_type": "markdown",
   "metadata": {},
   "source": [
    "By default sideband size is set to half a distance from sideband to origin"
   ]
  },
  {
   "cell_type": "markdown",
   "metadata": {},
   "source": [
    "Reconstructing both holograms with vacuum reference, setting output_shape to the size of the sideband filter to avoid oversampling:"
   ]
  },
  {
   "cell_type": "code",
   "execution_count": null,
   "metadata": {
    "collapsed": false
   },
   "outputs": [],
   "source": [
    "wave0 = holo0.reconstruct_phase(ref, sb_position=sb_position, sb_size=sb_size, output_shape=(2*sb_size, 2*sb_size))\n",
    "wave0.plot()\n",
    "wave5 = holo5.reconstruct_phase(ref, sb_position=sb_position, sb_size=sb_size, output_shape=(2*sb_size, 2*sb_size))\n",
    "wave5.plot()"
   ]
  },
  {
   "cell_type": "markdown",
   "metadata": {},
   "source": [
    "# 2. Accessing reconstructed phase, amplitude and unwrapping phase"
   ]
  },
  {
   "cell_type": "markdown",
   "metadata": {},
   "source": [
    "Plotting amplitude of a reconstructed wave:"
   ]
  },
  {
   "cell_type": "code",
   "execution_count": null,
   "metadata": {
    "collapsed": false
   },
   "outputs": [],
   "source": [
    "wave5.amplitude.plot(vmin=0, vmax=1)"
   ]
  },
  {
   "cell_type": "markdown",
   "metadata": {},
   "source": [
    "Wrapped phase:"
   ]
  },
  {
   "cell_type": "code",
   "execution_count": null,
   "metadata": {
    "collapsed": false
   },
   "outputs": [],
   "source": [
    "wave5.phase.plot()"
   ]
  },
  {
   "cell_type": "markdown",
   "metadata": {},
   "source": [
    "Since phase changes between -Pi and PI, it possesse rapid jumps called phase wraps. The phase can be unwrapped as follows:"
   ]
  },
  {
   "cell_type": "code",
   "execution_count": null,
   "metadata": {
    "collapsed": false
   },
   "outputs": [],
   "source": [
    "wave5.unwrapped_phase().plot()"
   ]
  },
  {
   "cell_type": "markdown",
   "metadata": {},
   "source": [
    "One sees, that the phase shift inside material is positive, therefore the sideband was selected correctly."
   ]
  },
  {
   "cell_type": "markdown",
   "metadata": {},
   "source": [
    "# 3. Calculating phase shift due to external electrostatic field"
   ]
  },
  {
   "cell_type": "markdown",
   "metadata": {},
   "source": [
    "The phase shift shown above includes three contributions:\n",
    "1. Contribution of mean inner potential of needle itself;\n",
    "2. Contribution of magnetic field, since needle's material is magnetic;\n",
    "3. Contribution of external electrostatic field, since bias voltage of 5V was applied.\n",
    "\n",
    "Since 1 and 2 are the same for both holograms, the 0V phase shift should be subtracted from 5V phase shift in order to access external electrostatic field contribution only.\n",
    "Though, two factors have to be taken into account:\n",
    "1. Missalignment of two holograms will cause artifacts. Therfore the images should be aligned prior to subtraction.\n",
    "2. The subtraction of phase images directly may fail due to phase wraps in case of wrapped phase and due to phase offset in case of unwrapped phase. The best way to subtarct two phase images is to divide corresponding wave images. (These opperations are mathematically equivalent.)\n"
   ]
  },
  {
   "cell_type": "markdown",
   "metadata": {},
   "source": [
    "Trying simple subtraction without alignment:"
   ]
  },
  {
   "cell_type": "code",
   "execution_count": null,
   "metadata": {
    "collapsed": false
   },
   "outputs": [],
   "source": [
    "wave_electrostatic = wave5 / wave0\n",
    "wave_electrostatic.phase.plot()"
   ]
  },
  {
   "cell_type": "markdown",
   "metadata": {},
   "source": [
    "One sees the shadows around needle surface which is a clear indication for missalignment of the images. Aligning the images:"
   ]
  },
  {
   "cell_type": "code",
   "execution_count": null,
   "metadata": {
    "collapsed": false
   },
   "outputs": [],
   "source": [
    "phase_stack = hs.stack([wave0.unwrapped_phase(), wave5.unwrapped_phase()])\n",
    "shifts = phase_stack.estimate_shift2D()\n"
   ]
  },
  {
   "cell_type": "code",
   "execution_count": null,
   "metadata": {
    "collapsed": false
   },
   "outputs": [],
   "source": [
    "shifts"
   ]
  },
  {
   "cell_type": "markdown",
   "metadata": {},
   "source": [
    "Typically alignment of holograms is not a trivial task. Different methods should be tried to achiev best results. Also a subpixel alignmnet is benifitial especially for the case when the size of reconstructed image set to the size of sideband filter. Here the improovmnet of automatic alignment is skept and images are aligned manualy by varying shifts untill best results were achieved istead."
   ]
  },
  {
   "cell_type": "code",
   "execution_count": null,
   "metadata": {
    "collapsed": false
   },
   "outputs": [],
   "source": [
    "wave5a= wave5.deepcopy()\n",
    "wave5a.map(np.roll, shift=0, axis=0)\n",
    "wave5a.map(np.roll, shift=1, axis=1)\n",
    "\n",
    "wave_electrostatic = wave5a / wave0\n",
    "wave_electrostatic.phase.plot()"
   ]
  },
  {
   "cell_type": "markdown",
   "metadata": {},
   "source": [
    "One can get unwrapped phase shift due to external electrostatic field:"
   ]
  },
  {
   "cell_type": "code",
   "execution_count": null,
   "metadata": {
    "collapsed": false
   },
   "outputs": [],
   "source": [
    "uphase_electrostatic = wave_electrostatic.unwrapped_phase()\n",
    "uphase_electrostatic.plot()"
   ]
  },
  {
   "cell_type": "markdown",
   "metadata": {},
   "source": [
    "Use a cosine function to plot equiphase contours which represent projected equipotential lines (here the cosine argument is multiplied with 2 that corresponds to contour separation of PI):"
   ]
  },
  {
   "cell_type": "code",
   "execution_count": null,
   "metadata": {
    "collapsed": false
   },
   "outputs": [],
   "source": [
    "contours_electrostatic = uphase_electrostatic._deepcopy_with_new_data(np.cos(2*uphase_electrostatic.data))\n",
    "contours_electrostatic.plot()"
   ]
  },
  {
   "cell_type": "markdown",
   "metadata": {},
   "source": [
    "Signal __uphase_electrostatic__ can be used for further analyses of charge distribution using Laplacian or loop integration of phase gradient. The corresponding functions will be included in next releases"
   ]
  }
 ],
 "metadata": {
  "kernelspec": {
   "display_name": "Python 3",
   "language": "python",
   "name": "python3"
  },
  "language_info": {
   "codemirror_mode": {
    "name": "ipython",
    "version": 3
   },
   "file_extension": ".py",
   "mimetype": "text/x-python",
   "name": "python",
   "nbconvert_exporter": "python",
   "pygments_lexer": "ipython3",
   "version": "3.5.1"
  }
 },
 "nbformat": 4,
 "nbformat_minor": 0
}
